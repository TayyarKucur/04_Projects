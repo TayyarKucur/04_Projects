{
 "cells": [
  {
   "cell_type": "markdown",
   "id": "3e258ef6",
   "metadata": {},
   "source": [
    "## <p style=\"background-color:#FDFEFE; font-family:newtimeroman; color:#060108; font-size:200%; text-align:center; border-radius:10px 10px;\">Analysis of US Citizens by Income Levels</p>"
   ]
  },
  {
   "cell_type": "markdown",
   "id": "5eb0c71a",
   "metadata": {},
   "source": [
    "# Aim of the Project\n",
    "\n",
    "Applying Exploratory Data Analysis (EDA) and preparing the data to implement the Machine Learning Algorithms;\n",
    "1. Analyzing the characteristics of individuals according to income groups\n",
    "2. Preparing data to create a model that will predict the income levels of people according to their characteristics (So the \"salary\" feature is the target feature)"
   ]
  },
  {
   "cell_type": "markdown",
   "id": "1860b601",
   "metadata": {},
   "source": [
    "## <p style=\"background-color:#9d4f8c; font-family:newtimeroman; color:#FFF9ED; font-size:175%; text-align:center; border-radius:10px 10px;\">Dataset Info</p>\n",
    "\n",
    "<a id=\"1\"></a>\n",
    "<a href=\"#toc\" class=\"btn btn-primary btn-sm\" role=\"button\" aria-pressed=\"true\" \n",
    "style=\"color:blue; background-color:#dfa8e4\" data-toggle=\"popover\">Content</a>\n",
    "\n",
    "The Census Income dataset has 32561 entries. Each entry contains the following information about an individual:\n",
    "\n",
    "- **salary (target feature/label):** whether or not an individual makes more than $50,000 annually. (<= 50K, >50K)\n",
    "- **age:** the age of an individual. (Integer greater than 0)\n",
    "- **workclass:** a general term to represent the employment status of an individual. (Private, Self-emp-not-inc, Self-emp-inc, Federal-gov, Local-gov, State-gov, Without-pay, Never-worked)\n",
    "- **fnlwgt:** this is the number of people the census believes the entry represents. People with similar demographic characteristics should have similar weights.  There is one important caveat to remember about this statement. That is that since the CPS sample is actually a collection of 51 state samples, each with its own probability of selection, the statement only applies within state.(Integer greater than 0)\n",
    "- **education:** the highest level of education achieved by an individual. (Bachelors, Some-college, 11th, HS-grad, Prof-school, Assoc-acdm, Assoc-voc, 9th, 7th-8th, 12th, Masters, 1st-4th, 10th, Doctorate, 5th-6th, Preschool.)\n",
    "- **education-num:** the highest level of education achieved in numerical form. (Integer greater than 0)\n",
    "- **marital-status:** marital status of an individual. Married-civ-spouse corresponds to a civilian spouse while Married-AF-spouse is a spouse in the Armed Forces. Married-spouse-absent includes married people living apart because either the husband or wife was employed and living at a considerable distance from home (Married-civ-spouse, Divorced, Never-married, Separated, Widowed, Married-spouse-absent, Married-AF-spouse)\n",
    "- **occupation:** the general type of occupation of an individual. (Tech-support, Craft-repair, Other-service, Sales, Exec-managerial, Prof-specialty, Handlers-cleaners, Machine-op-inspct, Adm-clerical, Farming-fishing, Transport-moving, Priv-house-serv, Protective-serv, Armed-Forces)\n",
    "- **relationship:** represents what this individual is relative to others. For example an individual could be a Husband. Each entry only has one relationship attribute. (Wife, Own-child, Husband, Not-in-family, Other-relative, Unmarried)\n",
    "- **race:** Descriptions of an individual’s race. (White, Asian-Pac-Islander, Amer-Indian-Eskimo, Other, Black)\n",
    "- **sex:** the biological sex of the individual. (Male, female)\n",
    "- **capital-gain:** capital gains for an individual. (Integer greater than or equal to 0)\n",
    "- **capital-loss:** capital loss for an individual. (Integer greater than or equal to 0)\n",
    "- **hours-per-week:** the hours an individual has reported to work per week. (continuous)\n",
    "- **native-country:** country of origin for an individual (United-States, Cambodia, England, Puerto-Rico, Canada, Germany, Outlying-US(Guam-USVI-etc), India, Japan, Greece, South, China, Cuba, Iran, Honduras, Philippines, Italy, Poland, Jamaica, Vietnam, Mexico, Portugal, Ireland, France, Dominican-Republic, Laos, Ecuador, Taiwan, Haiti, Columbia, Hungary, Guatemala, Nicaragua, Scotland, Thailand, Yugoslavia, El-Salvador, Trinadad&Tobago, Peru, Hong, Holand-Netherlands)"
   ]
  },
  {
   "cell_type": "code",
   "execution_count": 1,
   "id": "b63730c0",
   "metadata": {},
   "outputs": [],
   "source": [
    "import numpy as np\n",
    "import pandas as pd\n",
    "import matplotlib.pyplot as plt\n",
    "from matplotlib.patches import Patch\n",
    "from matplotlib.lines import Line2D\n",
    "import seaborn as sns\n",
    "\n",
    "import colorama\n",
    "from colorama import Fore, Style  # makes strings colored\n",
    "from termcolor import colored\n",
    "from termcolor import cprint\n",
    "\n",
    "import warnings\n",
    "warnings.filterwarnings(\"ignore\")\n",
    "warnings.warn(\"this will not show\")\n",
    "\n",
    "plt.rcParams[\"figure.figsize\"] = (10, 6)\n",
    "\n",
    "sns.set_style(\"whitegrid\")\n",
    "pd.set_option('display.float_format', lambda x: '%.3f' % x)\n",
    "\n",
    "# Set it None to display all rows in the dataframe\n",
    "# pd.set_option('display.max_rows', None)\n",
    "\n",
    "# Set it to None to display all columns in the dataframe\n",
    "pd.set_option('display.max_columns', None)"
   ]
  },
  {
   "cell_type": "code",
   "execution_count": 2,
   "id": "bacbd436",
   "metadata": {},
   "outputs": [
    {
     "name": "stdout",
     "output_type": "stream",
     "text": [
      "patool: Extracting adult_eda.rar ...\n",
      "patool: running \"C:\\Program Files\\WinRAR\\rar.EXE\" x -- D:\\GitHub\\Projects\\US_Citizens_EDA\\adult_eda.rar\n",
      "patool:     with cwd=.\\Unpack_o22u7le0\n",
      "patool: ... adult_eda.rar extracted to `adult_eda1' (local file exists).\n"
     ]
    },
    {
     "data": {
      "text/plain": [
       "'adult_eda1'"
      ]
     },
     "execution_count": 2,
     "metadata": {},
     "output_type": "execute_result"
    }
   ],
   "source": [
    "import patoolib\n",
    "\n",
    "patoolib.extract_archive(\"adult_eda.rar\")"
   ]
  },
  {
   "cell_type": "code",
   "execution_count": 3,
   "id": "d7534609",
   "metadata": {},
   "outputs": [
    {
     "data": {
      "text/html": [
       "<div>\n",
       "<style scoped>\n",
       "    .dataframe tbody tr th:only-of-type {\n",
       "        vertical-align: middle;\n",
       "    }\n",
       "\n",
       "    .dataframe tbody tr th {\n",
       "        vertical-align: top;\n",
       "    }\n",
       "\n",
       "    .dataframe thead th {\n",
       "        text-align: right;\n",
       "    }\n",
       "</style>\n",
       "<table border=\"1\" class=\"dataframe\">\n",
       "  <thead>\n",
       "    <tr style=\"text-align: right;\">\n",
       "      <th></th>\n",
       "      <th>age</th>\n",
       "      <th>workclass</th>\n",
       "      <th>fnlwgt</th>\n",
       "      <th>education</th>\n",
       "      <th>education-num</th>\n",
       "      <th>marital-status</th>\n",
       "      <th>occupation</th>\n",
       "      <th>relationship</th>\n",
       "      <th>race</th>\n",
       "      <th>sex</th>\n",
       "      <th>capital-gain</th>\n",
       "      <th>capital-loss</th>\n",
       "      <th>hours-per-week</th>\n",
       "      <th>native-country</th>\n",
       "      <th>salary</th>\n",
       "    </tr>\n",
       "  </thead>\n",
       "  <tbody>\n",
       "    <tr>\n",
       "      <th>0</th>\n",
       "      <td>39</td>\n",
       "      <td>State-gov</td>\n",
       "      <td>77516</td>\n",
       "      <td>Bachelors</td>\n",
       "      <td>13.000</td>\n",
       "      <td>Never-married</td>\n",
       "      <td>Adm-clerical</td>\n",
       "      <td>Not-in-family</td>\n",
       "      <td>White</td>\n",
       "      <td>Male</td>\n",
       "      <td>2174</td>\n",
       "      <td>0</td>\n",
       "      <td>40</td>\n",
       "      <td>United-States</td>\n",
       "      <td>&lt;=50K</td>\n",
       "    </tr>\n",
       "    <tr>\n",
       "      <th>1</th>\n",
       "      <td>50</td>\n",
       "      <td>Self-emp-not-inc</td>\n",
       "      <td>83311</td>\n",
       "      <td>Bachelors</td>\n",
       "      <td>13.000</td>\n",
       "      <td>Married-civ-spouse</td>\n",
       "      <td>Exec-managerial</td>\n",
       "      <td>Husband</td>\n",
       "      <td>White</td>\n",
       "      <td>Male</td>\n",
       "      <td>0</td>\n",
       "      <td>0</td>\n",
       "      <td>13</td>\n",
       "      <td>United-States</td>\n",
       "      <td>&lt;=50K</td>\n",
       "    </tr>\n",
       "    <tr>\n",
       "      <th>2</th>\n",
       "      <td>38</td>\n",
       "      <td>Private</td>\n",
       "      <td>215646</td>\n",
       "      <td>HS-grad</td>\n",
       "      <td>9.000</td>\n",
       "      <td>Divorced</td>\n",
       "      <td>Handlers-cleaners</td>\n",
       "      <td>Not-in-family</td>\n",
       "      <td>White</td>\n",
       "      <td>Male</td>\n",
       "      <td>0</td>\n",
       "      <td>0</td>\n",
       "      <td>40</td>\n",
       "      <td>United-States</td>\n",
       "      <td>&lt;=50K</td>\n",
       "    </tr>\n",
       "    <tr>\n",
       "      <th>3</th>\n",
       "      <td>53</td>\n",
       "      <td>Private</td>\n",
       "      <td>234721</td>\n",
       "      <td>11th</td>\n",
       "      <td>7.000</td>\n",
       "      <td>Married-civ-spouse</td>\n",
       "      <td>Handlers-cleaners</td>\n",
       "      <td>Husband</td>\n",
       "      <td>Black</td>\n",
       "      <td>Male</td>\n",
       "      <td>0</td>\n",
       "      <td>0</td>\n",
       "      <td>40</td>\n",
       "      <td>United-States</td>\n",
       "      <td>&lt;=50K</td>\n",
       "    </tr>\n",
       "    <tr>\n",
       "      <th>4</th>\n",
       "      <td>28</td>\n",
       "      <td>Private</td>\n",
       "      <td>338409</td>\n",
       "      <td>Bachelors</td>\n",
       "      <td>13.000</td>\n",
       "      <td>Married-civ-spouse</td>\n",
       "      <td>Prof-specialty</td>\n",
       "      <td>Wife</td>\n",
       "      <td>Black</td>\n",
       "      <td>Female</td>\n",
       "      <td>0</td>\n",
       "      <td>0</td>\n",
       "      <td>40</td>\n",
       "      <td>Cuba</td>\n",
       "      <td>&lt;=50K</td>\n",
       "    </tr>\n",
       "    <tr>\n",
       "      <th>...</th>\n",
       "      <td>...</td>\n",
       "      <td>...</td>\n",
       "      <td>...</td>\n",
       "      <td>...</td>\n",
       "      <td>...</td>\n",
       "      <td>...</td>\n",
       "      <td>...</td>\n",
       "      <td>...</td>\n",
       "      <td>...</td>\n",
       "      <td>...</td>\n",
       "      <td>...</td>\n",
       "      <td>...</td>\n",
       "      <td>...</td>\n",
       "      <td>...</td>\n",
       "      <td>...</td>\n",
       "    </tr>\n",
       "    <tr>\n",
       "      <th>32556</th>\n",
       "      <td>27</td>\n",
       "      <td>Private</td>\n",
       "      <td>257302</td>\n",
       "      <td>Assoc-acdm</td>\n",
       "      <td>12.000</td>\n",
       "      <td>Married-civ-spouse</td>\n",
       "      <td>Tech-support</td>\n",
       "      <td>Wife</td>\n",
       "      <td>White</td>\n",
       "      <td>Female</td>\n",
       "      <td>0</td>\n",
       "      <td>0</td>\n",
       "      <td>38</td>\n",
       "      <td>United-States</td>\n",
       "      <td>&lt;=50K</td>\n",
       "    </tr>\n",
       "    <tr>\n",
       "      <th>32557</th>\n",
       "      <td>40</td>\n",
       "      <td>Private</td>\n",
       "      <td>154374</td>\n",
       "      <td>HS-grad</td>\n",
       "      <td>9.000</td>\n",
       "      <td>Married-civ-spouse</td>\n",
       "      <td>Machine-op-inspct</td>\n",
       "      <td>Husband</td>\n",
       "      <td>White</td>\n",
       "      <td>Male</td>\n",
       "      <td>0</td>\n",
       "      <td>0</td>\n",
       "      <td>40</td>\n",
       "      <td>United-States</td>\n",
       "      <td>&gt;50K</td>\n",
       "    </tr>\n",
       "    <tr>\n",
       "      <th>32558</th>\n",
       "      <td>58</td>\n",
       "      <td>Private</td>\n",
       "      <td>151910</td>\n",
       "      <td>HS-grad</td>\n",
       "      <td>9.000</td>\n",
       "      <td>Widowed</td>\n",
       "      <td>Adm-clerical</td>\n",
       "      <td>Unmarried</td>\n",
       "      <td>White</td>\n",
       "      <td>Female</td>\n",
       "      <td>0</td>\n",
       "      <td>0</td>\n",
       "      <td>40</td>\n",
       "      <td>United-States</td>\n",
       "      <td>&lt;=50K</td>\n",
       "    </tr>\n",
       "    <tr>\n",
       "      <th>32559</th>\n",
       "      <td>22</td>\n",
       "      <td>Private</td>\n",
       "      <td>201490</td>\n",
       "      <td>HS-grad</td>\n",
       "      <td>9.000</td>\n",
       "      <td>Never-married</td>\n",
       "      <td>Adm-clerical</td>\n",
       "      <td>NaN</td>\n",
       "      <td>White</td>\n",
       "      <td>Male</td>\n",
       "      <td>0</td>\n",
       "      <td>0</td>\n",
       "      <td>20</td>\n",
       "      <td>United-States</td>\n",
       "      <td>&lt;=50K</td>\n",
       "    </tr>\n",
       "    <tr>\n",
       "      <th>32560</th>\n",
       "      <td>52</td>\n",
       "      <td>Self-emp-inc</td>\n",
       "      <td>287927</td>\n",
       "      <td>HS-grad</td>\n",
       "      <td>9.000</td>\n",
       "      <td>Married-civ-spouse</td>\n",
       "      <td>Exec-managerial</td>\n",
       "      <td>Wife</td>\n",
       "      <td>White</td>\n",
       "      <td>Female</td>\n",
       "      <td>15024</td>\n",
       "      <td>0</td>\n",
       "      <td>40</td>\n",
       "      <td>United-States</td>\n",
       "      <td>&gt;50K</td>\n",
       "    </tr>\n",
       "  </tbody>\n",
       "</table>\n",
       "<p>32561 rows × 15 columns</p>\n",
       "</div>"
      ],
      "text/plain": [
       "       age         workclass  fnlwgt   education  education-num  \\\n",
       "0       39         State-gov   77516   Bachelors         13.000   \n",
       "1       50  Self-emp-not-inc   83311   Bachelors         13.000   \n",
       "2       38           Private  215646     HS-grad          9.000   \n",
       "3       53           Private  234721        11th          7.000   \n",
       "4       28           Private  338409   Bachelors         13.000   \n",
       "...    ...               ...     ...         ...            ...   \n",
       "32556   27           Private  257302  Assoc-acdm         12.000   \n",
       "32557   40           Private  154374     HS-grad          9.000   \n",
       "32558   58           Private  151910     HS-grad          9.000   \n",
       "32559   22           Private  201490     HS-grad          9.000   \n",
       "32560   52      Self-emp-inc  287927     HS-grad          9.000   \n",
       "\n",
       "           marital-status         occupation   relationship   race     sex  \\\n",
       "0           Never-married       Adm-clerical  Not-in-family  White    Male   \n",
       "1      Married-civ-spouse    Exec-managerial        Husband  White    Male   \n",
       "2                Divorced  Handlers-cleaners  Not-in-family  White    Male   \n",
       "3      Married-civ-spouse  Handlers-cleaners        Husband  Black    Male   \n",
       "4      Married-civ-spouse     Prof-specialty           Wife  Black  Female   \n",
       "...                   ...                ...            ...    ...     ...   \n",
       "32556  Married-civ-spouse       Tech-support           Wife  White  Female   \n",
       "32557  Married-civ-spouse  Machine-op-inspct        Husband  White    Male   \n",
       "32558             Widowed       Adm-clerical      Unmarried  White  Female   \n",
       "32559       Never-married       Adm-clerical            NaN  White    Male   \n",
       "32560  Married-civ-spouse    Exec-managerial           Wife  White  Female   \n",
       "\n",
       "       capital-gain  capital-loss  hours-per-week native-country salary  \n",
       "0              2174             0              40  United-States  <=50K  \n",
       "1                 0             0              13  United-States  <=50K  \n",
       "2                 0             0              40  United-States  <=50K  \n",
       "3                 0             0              40  United-States  <=50K  \n",
       "4                 0             0              40           Cuba  <=50K  \n",
       "...             ...           ...             ...            ...    ...  \n",
       "32556             0             0              38  United-States  <=50K  \n",
       "32557             0             0              40  United-States   >50K  \n",
       "32558             0             0              40  United-States  <=50K  \n",
       "32559             0             0              20  United-States  <=50K  \n",
       "32560         15024             0              40  United-States   >50K  \n",
       "\n",
       "[32561 rows x 15 columns]"
      ]
     },
     "execution_count": 3,
     "metadata": {},
     "output_type": "execute_result"
    }
   ],
   "source": [
    "df0 = pd.read_csv(\"adult_eda.csv\", sep = \",\")\n",
    "df = df0.copy()\n",
    "df"
   ]
  },
  {
   "cell_type": "markdown",
   "id": "4cf63f03",
   "metadata": {},
   "source": [
    "### 1.Try to understand what the data looks like\n",
    "- Check the head, shape, data-types of the features.\n",
    "- Check if there are some dublicate rows or not. If there are, then drop them. \n",
    "- Check the statistical values of features.\n",
    "- If needed, rename the columns' names for easy use. \n",
    "- Basically check the missing values."
   ]
  },
  {
   "cell_type": "code",
   "execution_count": 4,
   "id": "774cdf5f",
   "metadata": {},
   "outputs": [
    {
     "data": {
      "text/html": [
       "<div>\n",
       "<style scoped>\n",
       "    .dataframe tbody tr th:only-of-type {\n",
       "        vertical-align: middle;\n",
       "    }\n",
       "\n",
       "    .dataframe tbody tr th {\n",
       "        vertical-align: top;\n",
       "    }\n",
       "\n",
       "    .dataframe thead th {\n",
       "        text-align: right;\n",
       "    }\n",
       "</style>\n",
       "<table border=\"1\" class=\"dataframe\">\n",
       "  <thead>\n",
       "    <tr style=\"text-align: right;\">\n",
       "      <th></th>\n",
       "      <th>age</th>\n",
       "      <th>workclass</th>\n",
       "      <th>fnlwgt</th>\n",
       "      <th>education</th>\n",
       "      <th>education-num</th>\n",
       "      <th>marital-status</th>\n",
       "      <th>occupation</th>\n",
       "      <th>relationship</th>\n",
       "      <th>race</th>\n",
       "      <th>sex</th>\n",
       "      <th>capital-gain</th>\n",
       "      <th>capital-loss</th>\n",
       "      <th>hours-per-week</th>\n",
       "      <th>native-country</th>\n",
       "      <th>salary</th>\n",
       "    </tr>\n",
       "  </thead>\n",
       "  <tbody>\n",
       "    <tr>\n",
       "      <th>0</th>\n",
       "      <td>39</td>\n",
       "      <td>State-gov</td>\n",
       "      <td>77516</td>\n",
       "      <td>Bachelors</td>\n",
       "      <td>13.000</td>\n",
       "      <td>Never-married</td>\n",
       "      <td>Adm-clerical</td>\n",
       "      <td>Not-in-family</td>\n",
       "      <td>White</td>\n",
       "      <td>Male</td>\n",
       "      <td>2174</td>\n",
       "      <td>0</td>\n",
       "      <td>40</td>\n",
       "      <td>United-States</td>\n",
       "      <td>&lt;=50K</td>\n",
       "    </tr>\n",
       "    <tr>\n",
       "      <th>1</th>\n",
       "      <td>50</td>\n",
       "      <td>Self-emp-not-inc</td>\n",
       "      <td>83311</td>\n",
       "      <td>Bachelors</td>\n",
       "      <td>13.000</td>\n",
       "      <td>Married-civ-spouse</td>\n",
       "      <td>Exec-managerial</td>\n",
       "      <td>Husband</td>\n",
       "      <td>White</td>\n",
       "      <td>Male</td>\n",
       "      <td>0</td>\n",
       "      <td>0</td>\n",
       "      <td>13</td>\n",
       "      <td>United-States</td>\n",
       "      <td>&lt;=50K</td>\n",
       "    </tr>\n",
       "    <tr>\n",
       "      <th>2</th>\n",
       "      <td>38</td>\n",
       "      <td>Private</td>\n",
       "      <td>215646</td>\n",
       "      <td>HS-grad</td>\n",
       "      <td>9.000</td>\n",
       "      <td>Divorced</td>\n",
       "      <td>Handlers-cleaners</td>\n",
       "      <td>Not-in-family</td>\n",
       "      <td>White</td>\n",
       "      <td>Male</td>\n",
       "      <td>0</td>\n",
       "      <td>0</td>\n",
       "      <td>40</td>\n",
       "      <td>United-States</td>\n",
       "      <td>&lt;=50K</td>\n",
       "    </tr>\n",
       "    <tr>\n",
       "      <th>3</th>\n",
       "      <td>53</td>\n",
       "      <td>Private</td>\n",
       "      <td>234721</td>\n",
       "      <td>11th</td>\n",
       "      <td>7.000</td>\n",
       "      <td>Married-civ-spouse</td>\n",
       "      <td>Handlers-cleaners</td>\n",
       "      <td>Husband</td>\n",
       "      <td>Black</td>\n",
       "      <td>Male</td>\n",
       "      <td>0</td>\n",
       "      <td>0</td>\n",
       "      <td>40</td>\n",
       "      <td>United-States</td>\n",
       "      <td>&lt;=50K</td>\n",
       "    </tr>\n",
       "    <tr>\n",
       "      <th>4</th>\n",
       "      <td>28</td>\n",
       "      <td>Private</td>\n",
       "      <td>338409</td>\n",
       "      <td>Bachelors</td>\n",
       "      <td>13.000</td>\n",
       "      <td>Married-civ-spouse</td>\n",
       "      <td>Prof-specialty</td>\n",
       "      <td>Wife</td>\n",
       "      <td>Black</td>\n",
       "      <td>Female</td>\n",
       "      <td>0</td>\n",
       "      <td>0</td>\n",
       "      <td>40</td>\n",
       "      <td>Cuba</td>\n",
       "      <td>&lt;=50K</td>\n",
       "    </tr>\n",
       "  </tbody>\n",
       "</table>\n",
       "</div>"
      ],
      "text/plain": [
       "   age         workclass  fnlwgt  education  education-num  \\\n",
       "0   39         State-gov   77516  Bachelors         13.000   \n",
       "1   50  Self-emp-not-inc   83311  Bachelors         13.000   \n",
       "2   38           Private  215646    HS-grad          9.000   \n",
       "3   53           Private  234721       11th          7.000   \n",
       "4   28           Private  338409  Bachelors         13.000   \n",
       "\n",
       "       marital-status         occupation   relationship   race     sex  \\\n",
       "0       Never-married       Adm-clerical  Not-in-family  White    Male   \n",
       "1  Married-civ-spouse    Exec-managerial        Husband  White    Male   \n",
       "2            Divorced  Handlers-cleaners  Not-in-family  White    Male   \n",
       "3  Married-civ-spouse  Handlers-cleaners        Husband  Black    Male   \n",
       "4  Married-civ-spouse     Prof-specialty           Wife  Black  Female   \n",
       "\n",
       "   capital-gain  capital-loss  hours-per-week native-country salary  \n",
       "0          2174             0              40  United-States  <=50K  \n",
       "1             0             0              13  United-States  <=50K  \n",
       "2             0             0              40  United-States  <=50K  \n",
       "3             0             0              40  United-States  <=50K  \n",
       "4             0             0              40           Cuba  <=50K  "
      ]
     },
     "execution_count": 4,
     "metadata": {},
     "output_type": "execute_result"
    }
   ],
   "source": [
    "df.head()"
   ]
  },
  {
   "cell_type": "code",
   "execution_count": 5,
   "id": "09c3e0ea",
   "metadata": {},
   "outputs": [
    {
     "data": {
      "text/html": [
       "<div>\n",
       "<style scoped>\n",
       "    .dataframe tbody tr th:only-of-type {\n",
       "        vertical-align: middle;\n",
       "    }\n",
       "\n",
       "    .dataframe tbody tr th {\n",
       "        vertical-align: top;\n",
       "    }\n",
       "\n",
       "    .dataframe thead th {\n",
       "        text-align: right;\n",
       "    }\n",
       "</style>\n",
       "<table border=\"1\" class=\"dataframe\">\n",
       "  <thead>\n",
       "    <tr style=\"text-align: right;\">\n",
       "      <th></th>\n",
       "      <th>age</th>\n",
       "      <th>workclass</th>\n",
       "      <th>fnlwgt</th>\n",
       "      <th>education</th>\n",
       "      <th>education-num</th>\n",
       "      <th>marital-status</th>\n",
       "      <th>occupation</th>\n",
       "      <th>relationship</th>\n",
       "      <th>race</th>\n",
       "      <th>sex</th>\n",
       "      <th>capital-gain</th>\n",
       "      <th>capital-loss</th>\n",
       "      <th>hours-per-week</th>\n",
       "      <th>native-country</th>\n",
       "      <th>salary</th>\n",
       "    </tr>\n",
       "  </thead>\n",
       "  <tbody>\n",
       "    <tr>\n",
       "      <th>16766</th>\n",
       "      <td>35</td>\n",
       "      <td>Private</td>\n",
       "      <td>210150</td>\n",
       "      <td>HS-grad</td>\n",
       "      <td>9.000</td>\n",
       "      <td>Divorced</td>\n",
       "      <td>Adm-clerical</td>\n",
       "      <td>Unmarried</td>\n",
       "      <td>White</td>\n",
       "      <td>Female</td>\n",
       "      <td>0</td>\n",
       "      <td>0</td>\n",
       "      <td>40</td>\n",
       "      <td>United-States</td>\n",
       "      <td>&lt;=50K</td>\n",
       "    </tr>\n",
       "    <tr>\n",
       "      <th>16706</th>\n",
       "      <td>43</td>\n",
       "      <td>Private</td>\n",
       "      <td>145762</td>\n",
       "      <td>Bachelors</td>\n",
       "      <td>13.000</td>\n",
       "      <td>Married-civ-spouse</td>\n",
       "      <td>Exec-managerial</td>\n",
       "      <td>Husband</td>\n",
       "      <td>White</td>\n",
       "      <td>Male</td>\n",
       "      <td>0</td>\n",
       "      <td>0</td>\n",
       "      <td>40</td>\n",
       "      <td>United-States</td>\n",
       "      <td>&lt;=50K</td>\n",
       "    </tr>\n",
       "    <tr>\n",
       "      <th>32542</th>\n",
       "      <td>72</td>\n",
       "      <td>?</td>\n",
       "      <td>129912</td>\n",
       "      <td>HS-grad</td>\n",
       "      <td>9.000</td>\n",
       "      <td>Married-civ-spouse</td>\n",
       "      <td>?</td>\n",
       "      <td>Husband</td>\n",
       "      <td>White</td>\n",
       "      <td>Male</td>\n",
       "      <td>0</td>\n",
       "      <td>0</td>\n",
       "      <td>25</td>\n",
       "      <td>United-States</td>\n",
       "      <td>&lt;=50K</td>\n",
       "    </tr>\n",
       "    <tr>\n",
       "      <th>3862</th>\n",
       "      <td>41</td>\n",
       "      <td>Private</td>\n",
       "      <td>121718</td>\n",
       "      <td>Assoc-voc</td>\n",
       "      <td>11.000</td>\n",
       "      <td>Married-civ-spouse</td>\n",
       "      <td>Tech-support</td>\n",
       "      <td>Husband</td>\n",
       "      <td>White</td>\n",
       "      <td>Male</td>\n",
       "      <td>0</td>\n",
       "      <td>1848</td>\n",
       "      <td>48</td>\n",
       "      <td>United-States</td>\n",
       "      <td>&gt;50K</td>\n",
       "    </tr>\n",
       "    <tr>\n",
       "      <th>14644</th>\n",
       "      <td>44</td>\n",
       "      <td>Private</td>\n",
       "      <td>105862</td>\n",
       "      <td>Some-college</td>\n",
       "      <td>10.000</td>\n",
       "      <td>Married-civ-spouse</td>\n",
       "      <td>Exec-managerial</td>\n",
       "      <td>Wife</td>\n",
       "      <td>White</td>\n",
       "      <td>Female</td>\n",
       "      <td>0</td>\n",
       "      <td>0</td>\n",
       "      <td>70</td>\n",
       "      <td>United-States</td>\n",
       "      <td>&gt;50K</td>\n",
       "    </tr>\n",
       "    <tr>\n",
       "      <th>11985</th>\n",
       "      <td>43</td>\n",
       "      <td>Local-gov</td>\n",
       "      <td>35824</td>\n",
       "      <td>Masters</td>\n",
       "      <td>14.000</td>\n",
       "      <td>Married-civ-spouse</td>\n",
       "      <td>Prof-specialty</td>\n",
       "      <td>Wife</td>\n",
       "      <td>White</td>\n",
       "      <td>Female</td>\n",
       "      <td>0</td>\n",
       "      <td>0</td>\n",
       "      <td>40</td>\n",
       "      <td>United-States</td>\n",
       "      <td>&gt;50K</td>\n",
       "    </tr>\n",
       "    <tr>\n",
       "      <th>14847</th>\n",
       "      <td>51</td>\n",
       "      <td>Private</td>\n",
       "      <td>165614</td>\n",
       "      <td>Masters</td>\n",
       "      <td>14.000</td>\n",
       "      <td>Never-married</td>\n",
       "      <td>Prof-specialty</td>\n",
       "      <td>Not-in-family</td>\n",
       "      <td>White</td>\n",
       "      <td>Male</td>\n",
       "      <td>0</td>\n",
       "      <td>0</td>\n",
       "      <td>55</td>\n",
       "      <td>United-States</td>\n",
       "      <td>&gt;50K</td>\n",
       "    </tr>\n",
       "    <tr>\n",
       "      <th>30755</th>\n",
       "      <td>50</td>\n",
       "      <td>Local-gov</td>\n",
       "      <td>308764</td>\n",
       "      <td>HS-grad</td>\n",
       "      <td>9.000</td>\n",
       "      <td>Widowed</td>\n",
       "      <td>Transport-moving</td>\n",
       "      <td>Unmarried</td>\n",
       "      <td>White</td>\n",
       "      <td>Female</td>\n",
       "      <td>0</td>\n",
       "      <td>0</td>\n",
       "      <td>40</td>\n",
       "      <td>United-States</td>\n",
       "      <td>&lt;=50K</td>\n",
       "    </tr>\n",
       "    <tr>\n",
       "      <th>25036</th>\n",
       "      <td>65</td>\n",
       "      <td>Private</td>\n",
       "      <td>153522</td>\n",
       "      <td>HS-grad</td>\n",
       "      <td>9.000</td>\n",
       "      <td>Widowed</td>\n",
       "      <td>Other-service</td>\n",
       "      <td>Unmarried</td>\n",
       "      <td>White</td>\n",
       "      <td>Female</td>\n",
       "      <td>0</td>\n",
       "      <td>0</td>\n",
       "      <td>17</td>\n",
       "      <td>United-States</td>\n",
       "      <td>&lt;=50K</td>\n",
       "    </tr>\n",
       "    <tr>\n",
       "      <th>7047</th>\n",
       "      <td>59</td>\n",
       "      <td>Self-emp-inc</td>\n",
       "      <td>107287</td>\n",
       "      <td>10th</td>\n",
       "      <td>6.000</td>\n",
       "      <td>Widowed</td>\n",
       "      <td>Exec-managerial</td>\n",
       "      <td>Unmarried</td>\n",
       "      <td>White</td>\n",
       "      <td>Female</td>\n",
       "      <td>0</td>\n",
       "      <td>2559</td>\n",
       "      <td>50</td>\n",
       "      <td>United-States</td>\n",
       "      <td>&gt;50K</td>\n",
       "    </tr>\n",
       "  </tbody>\n",
       "</table>\n",
       "</div>"
      ],
      "text/plain": [
       "       age     workclass  fnlwgt     education  education-num  \\\n",
       "16766   35       Private  210150       HS-grad          9.000   \n",
       "16706   43       Private  145762     Bachelors         13.000   \n",
       "32542   72             ?  129912       HS-grad          9.000   \n",
       "3862    41       Private  121718     Assoc-voc         11.000   \n",
       "14644   44       Private  105862  Some-college         10.000   \n",
       "11985   43     Local-gov   35824       Masters         14.000   \n",
       "14847   51       Private  165614       Masters         14.000   \n",
       "30755   50     Local-gov  308764       HS-grad          9.000   \n",
       "25036   65       Private  153522       HS-grad          9.000   \n",
       "7047    59  Self-emp-inc  107287          10th          6.000   \n",
       "\n",
       "           marital-status        occupation   relationship   race     sex  \\\n",
       "16766            Divorced      Adm-clerical      Unmarried  White  Female   \n",
       "16706  Married-civ-spouse   Exec-managerial        Husband  White    Male   \n",
       "32542  Married-civ-spouse                 ?        Husband  White    Male   \n",
       "3862   Married-civ-spouse      Tech-support        Husband  White    Male   \n",
       "14644  Married-civ-spouse   Exec-managerial           Wife  White  Female   \n",
       "11985  Married-civ-spouse    Prof-specialty           Wife  White  Female   \n",
       "14847       Never-married    Prof-specialty  Not-in-family  White    Male   \n",
       "30755             Widowed  Transport-moving      Unmarried  White  Female   \n",
       "25036             Widowed     Other-service      Unmarried  White  Female   \n",
       "7047              Widowed   Exec-managerial      Unmarried  White  Female   \n",
       "\n",
       "       capital-gain  capital-loss  hours-per-week native-country salary  \n",
       "16766             0             0              40  United-States  <=50K  \n",
       "16706             0             0              40  United-States  <=50K  \n",
       "32542             0             0              25  United-States  <=50K  \n",
       "3862              0          1848              48  United-States   >50K  \n",
       "14644             0             0              70  United-States   >50K  \n",
       "11985             0             0              40  United-States   >50K  \n",
       "14847             0             0              55  United-States   >50K  \n",
       "30755             0             0              40  United-States  <=50K  \n",
       "25036             0             0              17  United-States  <=50K  \n",
       "7047              0          2559              50  United-States   >50K  "
      ]
     },
     "execution_count": 5,
     "metadata": {},
     "output_type": "execute_result"
    }
   ],
   "source": [
    "df.sample(10)"
   ]
  },
  {
   "cell_type": "code",
   "execution_count": 6,
   "id": "c7dd84a0",
   "metadata": {},
   "outputs": [
    {
     "data": {
      "text/plain": [
       "(32561, 15)"
      ]
     },
     "execution_count": 6,
     "metadata": {},
     "output_type": "execute_result"
    }
   ],
   "source": [
    "df.shape"
   ]
  },
  {
   "cell_type": "code",
   "execution_count": 7,
   "id": "a56569d5",
   "metadata": {},
   "outputs": [
    {
     "name": "stdout",
     "output_type": "stream",
     "text": [
      "<class 'pandas.core.frame.DataFrame'>\n",
      "RangeIndex: 32561 entries, 0 to 32560\n",
      "Data columns (total 15 columns):\n",
      " #   Column          Non-Null Count  Dtype  \n",
      "---  ------          --------------  -----  \n",
      " 0   age             32561 non-null  int64  \n",
      " 1   workclass       32561 non-null  object \n",
      " 2   fnlwgt          32561 non-null  int64  \n",
      " 3   education       32561 non-null  object \n",
      " 4   education-num   31759 non-null  float64\n",
      " 5   marital-status  32561 non-null  object \n",
      " 6   occupation      32561 non-null  object \n",
      " 7   relationship    27493 non-null  object \n",
      " 8   race            32561 non-null  object \n",
      " 9   sex             32561 non-null  object \n",
      " 10  capital-gain    32561 non-null  int64  \n",
      " 11  capital-loss    32561 non-null  int64  \n",
      " 12  hours-per-week  32561 non-null  int64  \n",
      " 13  native-country  32561 non-null  object \n",
      " 14  salary          32561 non-null  object \n",
      "dtypes: float64(1), int64(5), object(9)\n",
      "memory usage: 3.7+ MB\n"
     ]
    }
   ],
   "source": [
    "df.info()"
   ]
  },
  {
   "cell_type": "code",
   "execution_count": 8,
   "id": "c9ff4721",
   "metadata": {},
   "outputs": [
    {
     "data": {
      "text/plain": [
       "False    32537\n",
       "True        24\n",
       "dtype: int64"
      ]
     },
     "execution_count": 8,
     "metadata": {},
     "output_type": "execute_result"
    }
   ],
   "source": [
    "df.duplicated().value_counts()"
   ]
  },
  {
   "cell_type": "code",
   "execution_count": 9,
   "id": "647ef501",
   "metadata": {},
   "outputs": [],
   "source": [
    "df.drop_duplicates(keep=\"first\", inplace=True)"
   ]
  },
  {
   "cell_type": "code",
   "execution_count": 10,
   "id": "427efca2",
   "metadata": {},
   "outputs": [
    {
     "data": {
      "text/plain": [
       "(32537, 15)"
      ]
     },
     "execution_count": 10,
     "metadata": {},
     "output_type": "execute_result"
    }
   ],
   "source": [
    "df.shape"
   ]
  },
  {
   "cell_type": "code",
   "execution_count": 11,
   "id": "164e4d81",
   "metadata": {},
   "outputs": [
    {
     "data": {
      "text/html": [
       "<div>\n",
       "<style scoped>\n",
       "    .dataframe tbody tr th:only-of-type {\n",
       "        vertical-align: middle;\n",
       "    }\n",
       "\n",
       "    .dataframe tbody tr th {\n",
       "        vertical-align: top;\n",
       "    }\n",
       "\n",
       "    .dataframe thead th {\n",
       "        text-align: right;\n",
       "    }\n",
       "</style>\n",
       "<table border=\"1\" class=\"dataframe\">\n",
       "  <thead>\n",
       "    <tr style=\"text-align: right;\">\n",
       "      <th></th>\n",
       "      <th>count</th>\n",
       "      <th>mean</th>\n",
       "      <th>std</th>\n",
       "      <th>min</th>\n",
       "      <th>25%</th>\n",
       "      <th>50%</th>\n",
       "      <th>75%</th>\n",
       "      <th>max</th>\n",
       "    </tr>\n",
       "  </thead>\n",
       "  <tbody>\n",
       "    <tr>\n",
       "      <th>age</th>\n",
       "      <td>32537.000</td>\n",
       "      <td>38.586</td>\n",
       "      <td>13.638</td>\n",
       "      <td>17.000</td>\n",
       "      <td>28.000</td>\n",
       "      <td>37.000</td>\n",
       "      <td>48.000</td>\n",
       "      <td>90.000</td>\n",
       "    </tr>\n",
       "    <tr>\n",
       "      <th>fnlwgt</th>\n",
       "      <td>32537.000</td>\n",
       "      <td>189780.849</td>\n",
       "      <td>105556.471</td>\n",
       "      <td>12285.000</td>\n",
       "      <td>117827.000</td>\n",
       "      <td>178356.000</td>\n",
       "      <td>236993.000</td>\n",
       "      <td>1484705.000</td>\n",
       "    </tr>\n",
       "    <tr>\n",
       "      <th>education-num</th>\n",
       "      <td>31735.000</td>\n",
       "      <td>10.084</td>\n",
       "      <td>2.575</td>\n",
       "      <td>1.000</td>\n",
       "      <td>9.000</td>\n",
       "      <td>10.000</td>\n",
       "      <td>12.000</td>\n",
       "      <td>16.000</td>\n",
       "    </tr>\n",
       "    <tr>\n",
       "      <th>capital-gain</th>\n",
       "      <td>32537.000</td>\n",
       "      <td>1078.444</td>\n",
       "      <td>7387.957</td>\n",
       "      <td>0.000</td>\n",
       "      <td>0.000</td>\n",
       "      <td>0.000</td>\n",
       "      <td>0.000</td>\n",
       "      <td>99999.000</td>\n",
       "    </tr>\n",
       "    <tr>\n",
       "      <th>capital-loss</th>\n",
       "      <td>32537.000</td>\n",
       "      <td>87.368</td>\n",
       "      <td>403.102</td>\n",
       "      <td>0.000</td>\n",
       "      <td>0.000</td>\n",
       "      <td>0.000</td>\n",
       "      <td>0.000</td>\n",
       "      <td>4356.000</td>\n",
       "    </tr>\n",
       "    <tr>\n",
       "      <th>hours-per-week</th>\n",
       "      <td>32537.000</td>\n",
       "      <td>40.440</td>\n",
       "      <td>12.347</td>\n",
       "      <td>1.000</td>\n",
       "      <td>40.000</td>\n",
       "      <td>40.000</td>\n",
       "      <td>45.000</td>\n",
       "      <td>99.000</td>\n",
       "    </tr>\n",
       "  </tbody>\n",
       "</table>\n",
       "</div>"
      ],
      "text/plain": [
       "                   count       mean        std       min        25%  \\\n",
       "age            32537.000     38.586     13.638    17.000     28.000   \n",
       "fnlwgt         32537.000 189780.849 105556.471 12285.000 117827.000   \n",
       "education-num  31735.000     10.084      2.575     1.000      9.000   \n",
       "capital-gain   32537.000   1078.444   7387.957     0.000      0.000   \n",
       "capital-loss   32537.000     87.368    403.102     0.000      0.000   \n",
       "hours-per-week 32537.000     40.440     12.347     1.000     40.000   \n",
       "\n",
       "                      50%        75%         max  \n",
       "age                37.000     48.000      90.000  \n",
       "fnlwgt         178356.000 236993.000 1484705.000  \n",
       "education-num      10.000     12.000      16.000  \n",
       "capital-gain        0.000      0.000   99999.000  \n",
       "capital-loss        0.000      0.000    4356.000  \n",
       "hours-per-week     40.000     45.000      99.000  "
      ]
     },
     "execution_count": 11,
     "metadata": {},
     "output_type": "execute_result"
    }
   ],
   "source": [
    "df.describe().T"
   ]
  },
  {
   "cell_type": "markdown",
   "id": "202b9fa4",
   "metadata": {},
   "source": [
    "**Rename the features of;**<br>\n",
    "**``\"education-num\"``**, **``\"marital-status\"``**, **``\"capital-gain\"``**, **``\"capital-loss\"``**, **``\"hours-per-week\"``**, **``\"native-country\"``** **as**<br>\n",
    "**``\"education_num\"``**, **``\"marital_status\"``**, **``\"capital_gain\"``**, **``\"capital_loss\"``**, **``\"hours_per_week\"``**, **``\"native_country\"``**, **respectively and permanently.**"
   ]
  },
  {
   "cell_type": "code",
   "execution_count": 12,
   "id": "b9f74482",
   "metadata": {},
   "outputs": [],
   "source": [
    "df.rename(columns={\"education-num\" : \"education_num\",\n",
    "                   \"marital-status\" : \"marital_status\",\n",
    "                   \"capital-gain\" : \"capital_gain\",\n",
    "                   \"capital-loss\": \"capital_loss\",\n",
    "                   \"hours-per-week\" : \"hours_per_week\",\n",
    "                   \"native-country\" : \"native_country\",\n",
    "                   \"sex\" : \"gender\"},\n",
    "          inplace = True)"
   ]
  },
  {
   "cell_type": "code",
   "execution_count": 13,
   "id": "187777d8",
   "metadata": {},
   "outputs": [
    {
     "data": {
      "text/plain": [
       "age                  0\n",
       "workclass            0\n",
       "fnlwgt               0\n",
       "education            0\n",
       "education_num      802\n",
       "marital_status       0\n",
       "occupation           0\n",
       "relationship      5064\n",
       "race                 0\n",
       "gender               0\n",
       "capital_gain         0\n",
       "capital_loss         0\n",
       "hours_per_week       0\n",
       "native_country       0\n",
       "salary               0\n",
       "dtype: int64"
      ]
     },
     "execution_count": 13,
     "metadata": {},
     "output_type": "execute_result"
    }
   ],
   "source": [
    "df.isnull().sum()"
   ]
  },
  {
   "cell_type": "code",
   "execution_count": 14,
   "id": "95576226",
   "metadata": {},
   "outputs": [
    {
     "data": {
      "text/plain": [
       "age               0.000\n",
       "workclass         0.000\n",
       "fnlwgt            0.000\n",
       "education         0.000\n",
       "education_num     2.465\n",
       "marital_status    0.000\n",
       "occupation        0.000\n",
       "relationship     15.564\n",
       "race              0.000\n",
       "gender            0.000\n",
       "capital_gain      0.000\n",
       "capital_loss      0.000\n",
       "hours_per_week    0.000\n",
       "native_country    0.000\n",
       "salary            0.000\n",
       "dtype: float64"
      ]
     },
     "execution_count": 14,
     "metadata": {},
     "output_type": "execute_result"
    }
   ],
   "source": [
    "df.isnull().sum() / df.shape[0]*100"
   ]
  },
  {
   "cell_type": "code",
   "execution_count": 15,
   "id": "284dba08",
   "metadata": {},
   "outputs": [
    {
     "name": "stdout",
     "output_type": "stream",
     "text": [
      "Missing Value Information Per Column:\n",
      "\n"
     ]
    },
    {
     "data": {
      "text/html": [
       "<div>\n",
       "<style scoped>\n",
       "    .dataframe tbody tr th:only-of-type {\n",
       "        vertical-align: middle;\n",
       "    }\n",
       "\n",
       "    .dataframe tbody tr th {\n",
       "        vertical-align: top;\n",
       "    }\n",
       "\n",
       "    .dataframe thead th {\n",
       "        text-align: right;\n",
       "    }\n",
       "</style>\n",
       "<table border=\"1\" class=\"dataframe\">\n",
       "  <thead>\n",
       "    <tr style=\"text-align: right;\">\n",
       "      <th></th>\n",
       "      <th>missing_count</th>\n",
       "      <th>missing_percentage</th>\n",
       "    </tr>\n",
       "  </thead>\n",
       "  <tbody>\n",
       "    <tr>\n",
       "      <th>age</th>\n",
       "      <td>0</td>\n",
       "      <td>0.000</td>\n",
       "    </tr>\n",
       "    <tr>\n",
       "      <th>workclass</th>\n",
       "      <td>0</td>\n",
       "      <td>0.000</td>\n",
       "    </tr>\n",
       "    <tr>\n",
       "      <th>fnlwgt</th>\n",
       "      <td>0</td>\n",
       "      <td>0.000</td>\n",
       "    </tr>\n",
       "    <tr>\n",
       "      <th>education</th>\n",
       "      <td>0</td>\n",
       "      <td>0.000</td>\n",
       "    </tr>\n",
       "    <tr>\n",
       "      <th>education_num</th>\n",
       "      <td>802</td>\n",
       "      <td>2.465</td>\n",
       "    </tr>\n",
       "    <tr>\n",
       "      <th>marital_status</th>\n",
       "      <td>0</td>\n",
       "      <td>0.000</td>\n",
       "    </tr>\n",
       "    <tr>\n",
       "      <th>occupation</th>\n",
       "      <td>0</td>\n",
       "      <td>0.000</td>\n",
       "    </tr>\n",
       "    <tr>\n",
       "      <th>relationship</th>\n",
       "      <td>5064</td>\n",
       "      <td>15.564</td>\n",
       "    </tr>\n",
       "    <tr>\n",
       "      <th>race</th>\n",
       "      <td>0</td>\n",
       "      <td>0.000</td>\n",
       "    </tr>\n",
       "    <tr>\n",
       "      <th>gender</th>\n",
       "      <td>0</td>\n",
       "      <td>0.000</td>\n",
       "    </tr>\n",
       "    <tr>\n",
       "      <th>capital_gain</th>\n",
       "      <td>0</td>\n",
       "      <td>0.000</td>\n",
       "    </tr>\n",
       "    <tr>\n",
       "      <th>capital_loss</th>\n",
       "      <td>0</td>\n",
       "      <td>0.000</td>\n",
       "    </tr>\n",
       "    <tr>\n",
       "      <th>hours_per_week</th>\n",
       "      <td>0</td>\n",
       "      <td>0.000</td>\n",
       "    </tr>\n",
       "    <tr>\n",
       "      <th>native_country</th>\n",
       "      <td>0</td>\n",
       "      <td>0.000</td>\n",
       "    </tr>\n",
       "    <tr>\n",
       "      <th>salary</th>\n",
       "      <td>0</td>\n",
       "      <td>0.000</td>\n",
       "    </tr>\n",
       "  </tbody>\n",
       "</table>\n",
       "</div>"
      ],
      "text/plain": [
       "                missing_count  missing_percentage\n",
       "age                         0               0.000\n",
       "workclass                   0               0.000\n",
       "fnlwgt                      0               0.000\n",
       "education                   0               0.000\n",
       "education_num             802               2.465\n",
       "marital_status              0               0.000\n",
       "occupation                  0               0.000\n",
       "relationship             5064              15.564\n",
       "race                        0               0.000\n",
       "gender                      0               0.000\n",
       "capital_gain                0               0.000\n",
       "capital_loss                0               0.000\n",
       "hours_per_week              0               0.000\n",
       "native_country              0               0.000\n",
       "salary                      0               0.000"
      ]
     },
     "execution_count": 15,
     "metadata": {},
     "output_type": "execute_result"
    }
   ],
   "source": [
    "print('Missing Value Information Per Column:\\n')\n",
    "missing_count = df.isnull().sum()\n",
    "missing_per = df.isnull().sum()/df.shape[0]*100\n",
    "\n",
    "missing_df = pd.concat({\"missing_count\": missing_count, \"missing_percentage\": missing_per}, axis=1)\n",
    "missing_df"
   ]
  },
  {
   "cell_type": "code",
   "execution_count": 16,
   "id": "4d1950e3",
   "metadata": {},
   "outputs": [],
   "source": [
    "def show_nulls(data):\n",
    "    \n",
    "    '''\n",
    "    \n",
    "    This function plots missing values for each column by observation in the dataset.\n",
    "    \n",
    "    ''' \n",
    "    plt.figure(figsize=(10, 5))\n",
    "\n",
    "    sns.displot(data=data.isnull().melt(value_name=\"missing\"),\n",
    "                y=\"variable\",\n",
    "                hue=\"missing\",\n",
    "                multiple=\"fill\",\n",
    "                height=9.25)\n",
    "\n",
    "    plt.axvline(0.2, color=\"r\")\n",
    "    plt.show()"
   ]
  },
  {
   "cell_type": "code",
   "execution_count": 17,
   "id": "9b4bd9d5",
   "metadata": {},
   "outputs": [
    {
     "data": {
      "text/plain": [
       "<Figure size 1000x500 with 0 Axes>"
      ]
     },
     "metadata": {},
     "output_type": "display_data"
    },
    {
     "data": {
      "image/png": "[encoded data removed]",
      "text/plain": [
       "<Figure size 1008.87x925 with 1 Axes>"
      ]
     },
     "metadata": {},
     "output_type": "display_data"
    }
   ],
   "source": [
    "show_nulls(df)"
   ]
  },
  {
   "cell_type": "markdown",
   "id": "d96010d3",
   "metadata": {},
   "source": [
    "### 2.Look at the value counts of columns that have object datatype and detect strange values apart from the NaN Values"
   ]
  },
  {
   "cell_type": "code",
   "execution_count": 18,
   "id": "f9c45c50",
   "metadata": {},
   "outputs": [
    {
     "data": {
      "text/plain": [
       "Index(['age', 'workclass', 'fnlwgt', 'education', 'education_num',\n",
       "       'marital_status', 'occupation', 'relationship', 'race', 'gender',\n",
       "       'capital_gain', 'capital_loss', 'hours_per_week', 'native_country',\n",
       "       'salary'],\n",
       "      dtype='object')"
      ]
     },
     "execution_count": 18,
     "metadata": {},
     "output_type": "execute_result"
    }
   ],
   "source": [
    "df.columns"
   ]
  },
  {
   "cell_type": "code",
   "execution_count": 19,
   "id": "d7e32416",
   "metadata": {},
   "outputs": [
    {
     "name": "stdout",
     "output_type": "stream",
     "text": [
      "Descriptive Statistics of Categorical Features:\n",
      "\n"
     ]
    },
    {
     "data": {
      "text/html": [
       "<div>\n",
       "<style scoped>\n",
       "    .dataframe tbody tr th:only-of-type {\n",
       "        vertical-align: middle;\n",
       "    }\n",
       "\n",
       "    .dataframe tbody tr th {\n",
       "        vertical-align: top;\n",
       "    }\n",
       "\n",
       "    .dataframe thead th {\n",
       "        text-align: right;\n",
       "    }\n",
       "</style>\n",
       "<table border=\"1\" class=\"dataframe\">\n",
       "  <thead>\n",
       "    <tr style=\"text-align: right;\">\n",
       "      <th></th>\n",
       "      <th>count</th>\n",
       "      <th>unique</th>\n",
       "      <th>top</th>\n",
       "      <th>freq</th>\n",
       "    </tr>\n",
       "  </thead>\n",
       "  <tbody>\n",
       "    <tr>\n",
       "      <th>workclass</th>\n",
       "      <td>32537</td>\n",
       "      <td>9</td>\n",
       "      <td>Private</td>\n",
       "      <td>22673</td>\n",
       "    </tr>\n",
       "    <tr>\n",
       "      <th>education</th>\n",
       "      <td>32537</td>\n",
       "      <td>16</td>\n",
       "      <td>HS-grad</td>\n",
       "      <td>10494</td>\n",
       "    </tr>\n",
       "    <tr>\n",
       "      <th>marital_status</th>\n",
       "      <td>32537</td>\n",
       "      <td>7</td>\n",
       "      <td>Married-civ-spouse</td>\n",
       "      <td>14970</td>\n",
       "    </tr>\n",
       "    <tr>\n",
       "      <th>occupation</th>\n",
       "      <td>32537</td>\n",
       "      <td>15</td>\n",
       "      <td>Prof-specialty</td>\n",
       "      <td>4136</td>\n",
       "    </tr>\n",
       "    <tr>\n",
       "      <th>relationship</th>\n",
       "      <td>27473</td>\n",
       "      <td>5</td>\n",
       "      <td>Husband</td>\n",
       "      <td>13187</td>\n",
       "    </tr>\n",
       "    <tr>\n",
       "      <th>race</th>\n",
       "      <td>32537</td>\n",
       "      <td>5</td>\n",
       "      <td>White</td>\n",
       "      <td>27795</td>\n",
       "    </tr>\n",
       "    <tr>\n",
       "      <th>gender</th>\n",
       "      <td>32537</td>\n",
       "      <td>2</td>\n",
       "      <td>Male</td>\n",
       "      <td>21775</td>\n",
       "    </tr>\n",
       "    <tr>\n",
       "      <th>native_country</th>\n",
       "      <td>32537</td>\n",
       "      <td>42</td>\n",
       "      <td>United-States</td>\n",
       "      <td>29153</td>\n",
       "    </tr>\n",
       "    <tr>\n",
       "      <th>salary</th>\n",
       "      <td>32537</td>\n",
       "      <td>2</td>\n",
       "      <td>&lt;=50K</td>\n",
       "      <td>24698</td>\n",
       "    </tr>\n",
       "  </tbody>\n",
       "</table>\n",
       "</div>"
      ],
      "text/plain": [
       "                count unique                 top   freq\n",
       "workclass       32537      9             Private  22673\n",
       "education       32537     16             HS-grad  10494\n",
       "marital_status  32537      7  Married-civ-spouse  14970\n",
       "occupation      32537     15      Prof-specialty   4136\n",
       "relationship    27473      5             Husband  13187\n",
       "race            32537      5               White  27795\n",
       "gender          32537      2                Male  21775\n",
       "native_country  32537     42       United-States  29153\n",
       "salary          32537      2               <=50K  24698"
      ]
     },
     "execution_count": 19,
     "metadata": {},
     "output_type": "execute_result"
    }
   ],
   "source": [
    "print('Descriptive Statistics of Categorical Features:\\n', )\n",
    "\n",
    "df.describe(include=\"object\").T"
   ]
  },
  {
   "cell_type": "markdown",
   "id": "c826391f",
   "metadata": {},
   "source": [
    "**Assign the Columns (Features) of object data type as** **``\"object_col\"``**"
   ]
  },
  {
   "cell_type": "code",
   "execution_count": 20,
   "id": "d5ec503a",
   "metadata": {},
   "outputs": [
    {
     "data": {
      "text/plain": [
       "Index(['workclass', 'education', 'marital_status', 'occupation',\n",
       "       'relationship', 'race', 'gender', 'native_country', 'salary'],\n",
       "      dtype='object')"
      ]
     },
     "execution_count": 20,
     "metadata": {},
     "output_type": "execute_result"
    }
   ],
   "source": [
    "object_col = df.select_dtypes(include='O').columns\n",
    "object_col"
   ]
  },
  {
   "cell_type": "code",
   "execution_count": 21,
   "id": "0884f500",
   "metadata": {},
   "outputs": [
    {
     "name": "stdout",
     "output_type": "stream",
     "text": [
      "workclass\n",
      "----------------\n",
      "Private             22673\n",
      "Self-emp-not-inc     2540\n",
      "Local-gov            2093\n",
      "?                    1836\n",
      "State-gov            1298\n",
      "Self-emp-inc         1116\n",
      "Federal-gov           960\n",
      "Without-pay            14\n",
      "Never-worked            7\n",
      "Name: workclass, dtype: int64\n",
      "----------------------------------------\n",
      "education\n",
      "----------------\n",
      "HS-grad         10494\n",
      "Some-college     7282\n",
      "Bachelors        5353\n",
      "Masters          1722\n",
      "Assoc-voc        1382\n",
      "11th             1175\n",
      "Assoc-acdm       1067\n",
      "10th              933\n",
      "7th-8th           645\n",
      "Prof-school       576\n",
      "9th               514\n",
      "12th              433\n",
      "Doctorate         413\n",
      "5th-6th           332\n",
      "1st-4th           166\n",
      "Preschool          50\n",
      "Name: education, dtype: int64\n",
      "----------------------------------------\n",
      "marital_status\n",
      "----------------\n",
      "Married-civ-spouse       14970\n",
      "Never-married            10667\n",
      "Divorced                  4441\n",
      "Separated                 1025\n",
      "Widowed                    993\n",
      "Married-spouse-absent      418\n",
      "Married-AF-spouse           23\n",
      "Name: marital_status, dtype: int64\n",
      "----------------------------------------\n",
      "occupation\n",
      "----------------\n",
      "Prof-specialty       4136\n",
      "Craft-repair         4094\n",
      "Exec-managerial      4065\n",
      "Adm-clerical         3768\n",
      "Sales                3650\n",
      "Other-service        3291\n",
      "Machine-op-inspct    2000\n",
      "?                    1843\n",
      "Transport-moving     1597\n",
      "Handlers-cleaners    1369\n",
      "Farming-fishing       992\n",
      "Tech-support          927\n",
      "Protective-serv       649\n",
      "Priv-house-serv       147\n",
      "Armed-Forces            9\n",
      "Name: occupation, dtype: int64\n",
      "----------------------------------------\n",
      "relationship\n",
      "----------------\n",
      "Husband           13187\n",
      "Not-in-family      8292\n",
      "NaN                5064\n",
      "Unmarried          3445\n",
      "Wife               1568\n",
      "Other-relative      981\n",
      "Name: relationship, dtype: int64\n",
      "----------------------------------------\n",
      "race\n",
      "----------------\n",
      "White                 27795\n",
      "Black                  3122\n",
      "Asian-Pac-Islander     1038\n",
      "Amer-Indian-Eskimo      311\n",
      "Other                   271\n",
      "Name: race, dtype: int64\n",
      "----------------------------------------\n",
      "gender\n",
      "----------------\n",
      "Male      21775\n",
      "Female    10762\n",
      "Name: gender, dtype: int64\n",
      "----------------------------------------\n",
      "native_country\n",
      "----------------\n",
      "United-States                 29153\n",
      "Mexico                          639\n",
      "?                               582\n",
      "Philippines                     198\n",
      "Germany                         137\n",
      "Canada                          121\n",
      "Puerto-Rico                     114\n",
      "El-Salvador                     106\n",
      "India                           100\n",
      "Cuba                             95\n",
      "England                          90\n",
      "Jamaica                          81\n",
      "South                            80\n",
      "China                            75\n",
      "Italy                            73\n",
      "Dominican-Republic               70\n",
      "Vietnam                          67\n",
      "Japan                            62\n",
      "Guatemala                        62\n",
      "Poland                           60\n",
      "Columbia                         59\n",
      "Taiwan                           51\n",
      "Haiti                            44\n",
      "Iran                             43\n",
      "Portugal                         37\n",
      "Nicaragua                        34\n",
      "Peru                             31\n",
      "France                           29\n",
      "Greece                           29\n",
      "Ecuador                          28\n",
      "Ireland                          24\n",
      "Hong                             20\n",
      "Cambodia                         19\n",
      "Trinadad&Tobago                  19\n",
      "Laos                             18\n",
      "Thailand                         18\n",
      "Yugoslavia                       16\n",
      "Outlying-US(Guam-USVI-etc)       14\n",
      "Honduras                         13\n",
      "Hungary                          13\n",
      "Scotland                         12\n",
      "Holand-Netherlands                1\n",
      "Name: native_country, dtype: int64\n",
      "----------------------------------------\n",
      "salary\n",
      "----------------\n",
      "<=50K    24698\n",
      ">50K      7839\n",
      "Name: salary, dtype: int64\n",
      "----------------------------------------\n"
     ]
    }
   ],
   "source": [
    "for col in object_col:\n",
    "    print(col)\n",
    "    print(\"--\"*8)\n",
    "    print(df[col].value_counts(dropna=False))\n",
    "    print(\"--\"*20)"
   ]
  },
  {
   "cell_type": "markdown",
   "id": "f9c81171",
   "metadata": {},
   "source": [
    "**Check if the Dataset has any Question Mark** **``\"?\"``**"
   ]
  },
  {
   "cell_type": "code",
   "execution_count": 22,
   "id": "0a4cef4e",
   "metadata": {},
   "outputs": [
    {
     "data": {
      "text/plain": [
       "age               False\n",
       "workclass          True\n",
       "fnlwgt            False\n",
       "education         False\n",
       "education_num     False\n",
       "marital_status    False\n",
       "occupation         True\n",
       "relationship      False\n",
       "race              False\n",
       "gender            False\n",
       "capital_gain      False\n",
       "capital_loss      False\n",
       "hours_per_week    False\n",
       "native_country     True\n",
       "salary            False\n",
       "dtype: bool"
      ]
     },
     "execution_count": 22,
     "metadata": {},
     "output_type": "execute_result"
    }
   ],
   "source": [
    "df.isin([\"?\"]).any()"
   ]
  },
  {
   "cell_type": "markdown",
   "id": "e47047ee",
   "metadata": {},
   "source": [
    "# Univariate & Multivariate Analysis\n",
    "\n",
    "Examine all features (first target feature(\"salary\"), then numeric ones, lastly categoric ones) separetly from different aspects according to target feature.\n",
    "\n",
    "**to do list for numeric features:**\n",
    "1. Check the boxplot to see extreme values \n",
    "2. Check the histplot/kdeplot to see distribution of feature\n",
    "3. Check the statistical values\n",
    "4. Check the boxplot and histplot/kdeplot by \"salary\" levels\n",
    "5. Check the statistical values by \"salary\" levels\n",
    "6. Write down the conclusions you draw from your analysis\n",
    "\n",
    "**to do list for categoric features:**\n",
    "1. Find the features which contains similar values, examine the similarities and analyze them together \n",
    "2. Check the count/percentage of person in each categories and visualize it with a suitable plot\n",
    "3. If need, decrease the number of categories by combining similar categories\n",
    "4. Check the count of person in each \"salary\" levels by categories and visualize it with a suitable plot\n",
    "5. Check the percentage distribution of person in each \"salary\" levels by categories and visualize it with suitable plot\n",
    "6. Check the count of person in each categories by \"salary\" levels and visualize it with a suitable plot\n",
    "7. Check the percentage distribution of person in each categories by \"salary\" levels and visualize it with suitable plot\n",
    "8. Write down the conclusions you draw from your analysis\n",
    "\n",
    "**Note :** Instruction/direction for each feature is available under the corresponding feature in detail, as well."
   ]
  },
  {
   "cell_type": "markdown",
   "id": "70a46719",
   "metadata": {},
   "source": [
    "## Salary (Target Feature)"
   ]
  },
  {
   "cell_type": "markdown",
   "id": "bb93492f",
   "metadata": {},
   "source": [
    "**Check the count of person in each \"salary\" levels and visualize it with a countplot**"
   ]
  },
  {
   "cell_type": "code",
   "execution_count": 23,
   "id": "0c0f8392",
   "metadata": {},
   "outputs": [
    {
     "data": {
      "text/plain": [
       "<=50K    24698\n",
       ">50K      7839\n",
       "Name: salary, dtype: int64"
      ]
     },
     "execution_count": 23,
     "metadata": {},
     "output_type": "execute_result"
    }
   ],
   "source": [
    "df[\"salary\"].value_counts(dropna = False)"
   ]
  },
  {
   "cell_type": "code",
   "execution_count": 24,
   "id": "6959732f",
   "metadata": {},
   "outputs": [
    {
     "data": {
      "image/png": "[encoded data removed]",
      "text/plain": [
       "<Figure size 1000x600 with 1 Axes>"
      ]
     },
     "metadata": {},
     "output_type": "display_data"
    }
   ],
   "source": [
    "sns.countplot(data = df, x=\"salary\", palette=\"Accent\");"
   ]
  },
  {
   "cell_type": "code",
   "execution_count": 25,
   "id": "acf95080",
   "metadata": {},
   "outputs": [
    {
     "data": {
      "image/png": "[encoded data removed]",
      "text/plain": [
       "<Figure size 1000x600 with 1 Axes>"
      ]
     },
     "metadata": {},
     "output_type": "display_data"
    }
   ],
   "source": [
    "fig, ax = plt.subplots()\n",
    "\n",
    "ax = sns.countplot(data = df, x = \"salary\", palette = \"Accent\")\n",
    "ax.set_title(\"Total Number of People by Income Level\", fontsize = 12)\n",
    "\n",
    "ax.bar_label(ax.containers[0], color = \"darkred\", size = 12);"
   ]
  },
  {
   "cell_type": "markdown",
   "id": "c46a1737",
   "metadata": {},
   "source": [
    "**Check the percentage of person in each \"salary\" levels and visualize it with a pieplot**"
   ]
  },
  {
   "cell_type": "code",
   "execution_count": 26,
   "id": "ee6893d5",
   "metadata": {},
   "outputs": [
    {
     "data": {
      "text/plain": [
       "<=50K   0.759\n",
       ">50K    0.241\n",
       "Name: salary, dtype: float64"
      ]
     },
     "execution_count": 26,
     "metadata": {},
     "output_type": "execute_result"
    }
   ],
   "source": [
    "df.salary.value_counts(normalize = True)"
   ]
  },
  {
   "cell_type": "code",
   "execution_count": 27,
   "id": "042b443c",
   "metadata": {},
   "outputs": [
    {
     "data": {
      "image/png": "[encoded data removed]",
      "text/plain": [
       "<Figure size 600x600 with 1 Axes>"
      ]
     },
     "metadata": {},
     "output_type": "display_data"
    }
   ],
   "source": [
    "fig, ax = plt.subplots(figsize = (6, 6))\n",
    "\n",
    "ax.pie(x=df.salary.value_counts().values, \n",
    "       labels=['<=50K', '>50K'], \n",
    "       autopct='%.1f%%',\n",
    "       explode=(0, 0.1),\n",
    "       colors=['lightskyblue', 'gold'],\n",
    "       textprops={'fontsize': 12},\n",
    "       shadow=True\n",
    "            )\n",
    "\n",
    "plt.title(\"Percentage of Income-Levels\", fontdict = {'fontsize': 14})\n",
    "plt.show()"
   ]
  },
  {
   "cell_type": "markdown",
   "id": "7bf60cf8",
   "metadata": {},
   "source": [
    "**Result :** While 75% of the individuals in the data set are at the low-income level, 25% are at the high-income level."
   ]
  },
  {
   "cell_type": "markdown",
   "id": "fab46043",
   "metadata": {},
   "source": [
    "## Numeric Features"
   ]
  },
  {
   "cell_type": "markdown",
   "id": "40c32490",
   "metadata": {},
   "source": [
    "## age"
   ]
  },
  {
   "cell_type": "markdown",
   "id": "c30fb830",
   "metadata": {},
   "source": [
    "**Check the boxplot to see extreme values**"
   ]
  },
  {
   "cell_type": "code",
   "execution_count": 28,
   "id": "4a05c0d2",
   "metadata": {},
   "outputs": [
    {
     "data": {
      "image/png": "[encoded data removed]",
      "text/plain": [
       "<Figure size 1000x600 with 1 Axes>"
      ]
     },
     "metadata": {},
     "output_type": "display_data"
    }
   ],
   "source": [
    "sns.boxplot(data=df, \n",
    "            x=\"age\",\n",
    "            showmeans=True,\n",
    "            meanprops={\"marker\":\"o\",\n",
    "                       \"markerfacecolor\":\"white\", \n",
    "                       \"markeredgecolor\":\"black\",\n",
    "                       \"markersize\":\"10\"})\n",
    "\n",
    "plt.title(\"Age Distribution\", fontsize=18, color=\"b\");"
   ]
  },
  {
   "cell_type": "markdown",
   "id": "e8f32344",
   "metadata": {},
   "source": [
    "**Check the histplot/kdeplot to see distribution of feature**"
   ]
  },
  {
   "cell_type": "code",
   "execution_count": 29,
   "id": "046462d0",
   "metadata": {},
   "outputs": [
    {
     "data": {
      "image/png": "[encoded data removed]",
      "text/plain": [
       "<Figure size 1000x600 with 1 Axes>"
      ]
     },
     "metadata": {},
     "output_type": "display_data"
    }
   ],
   "source": [
    "sns.histplot(data=df, x=\"age\", bins=20, kde=True, color=\"g\")\n",
    "\n",
    "plt.title(\"Age Distribution\", fontsize=18, color=\"darkred\");"
   ]
  },
  {
   "cell_type": "markdown",
   "id": "246db338",
   "metadata": {},
   "source": [
    "**Check the statistical values**"
   ]
  },
  {
   "cell_type": "code",
   "execution_count": 30,
   "id": "2c9ada66",
   "metadata": {},
   "outputs": [
    {
     "name": "stdout",
     "output_type": "stream",
     "text": [
      "Descriptive Statistics of the Age Feature:\n",
      "\n"
     ]
    },
    {
     "data": {
      "text/plain": [
       "count   32537.000\n",
       "mean       38.586\n",
       "std        13.638\n",
       "min        17.000\n",
       "25%        28.000\n",
       "50%        37.000\n",
       "75%        48.000\n",
       "max        90.000\n",
       "Name: age, dtype: float64"
      ]
     },
     "execution_count": 30,
     "metadata": {},
     "output_type": "execute_result"
    }
   ],
   "source": [
    "print(colored('Descriptive Statistics of the Age Feature:\\n', 'blue', attrs=['bold']))\n",
    "\n",
    "df.age.describe()"
   ]
  },
  {
   "cell_type": "markdown",
   "id": "dfd1ac7c",
   "metadata": {},
   "source": [
    "**Check the boxplot and histplot/kdeplot by \"salary\" levels**"
   ]
  },
  {
   "cell_type": "code",
   "execution_count": 31,
   "id": "fa14fa59",
   "metadata": {},
   "outputs": [
    {
     "data": {
      "image/png": "[encoded data removed]",
      "text/plain": [
       "<Figure size 1000x600 with 1 Axes>"
      ]
     },
     "metadata": {},
     "output_type": "display_data"
    }
   ],
   "source": [
    "sns.boxplot(data=df, \n",
    "            x=\"salary\", \n",
    "            y=\"age\",\n",
    "            showmeans=True,\n",
    "            meanprops={\"marker\":\"o\",\n",
    "                       \"markerfacecolor\":\"white\", \n",
    "                       \"markeredgecolor\":\"red\",\n",
    "                       \"markersize\":\"10\"})\n",
    "\n",
    "plt.title(\"Age Distribution by Salary\", fontsize=20, color=\"darkblue\");"
   ]
  },
  {
   "cell_type": "code",
   "execution_count": 32,
   "id": "58c8932f",
   "metadata": {},
   "outputs": [
    {
     "data": {
      "image/png": "[encoded data removed]",
      "text/plain": [
       "<Figure size 1000x600 with 1 Axes>"
      ]
     },
     "metadata": {},
     "output_type": "display_data"
    }
   ],
   "source": [
    "sns.histplot(data=df, x=\"age\", bins= 20, kde=True, hue=\"salary\")\n",
    "\n",
    "plt.title(\"Age Distribution by Salary\", fontsize=20, color=\"darkblue\");"
   ]
  },
  {
   "cell_type": "code",
   "execution_count": 33,
   "id": "6d2b84de",
   "metadata": {},
   "outputs": [
    {
     "data": {
      "image/png": "[encoded data removed]",
      "text/plain": [
       "<Figure size 1000x600 with 1 Axes>"
      ]
     },
     "metadata": {},
     "output_type": "display_data"
    }
   ],
   "source": [
    "sns.kdeplot(data=df, x=\"age\", hue=\"salary\", fill=True)\n",
    "\n",
    "plt.title(\"Age Distribution by Salary\", fontsize=20, color=\"darkblue\");"
   ]
  },
  {
   "cell_type": "markdown",
   "id": "3ed675b6",
   "metadata": {},
   "source": [
    "**Check the statistical values by \"salary\" levels**"
   ]
  },
  {
   "cell_type": "code",
   "execution_count": 34,
   "id": "ae700c98",
   "metadata": {},
   "outputs": [
    {
     "name": "stdout",
     "output_type": "stream",
     "text": [
      "Descriptive Statistics of the Age by Salary:\n",
      "\n"
     ]
    },
    {
     "data": {
      "text/html": [
       "<div>\n",
       "<style scoped>\n",
       "    .dataframe tbody tr th:only-of-type {\n",
       "        vertical-align: middle;\n",
       "    }\n",
       "\n",
       "    .dataframe tbody tr th {\n",
       "        vertical-align: top;\n",
       "    }\n",
       "\n",
       "    .dataframe thead th {\n",
       "        text-align: right;\n",
       "    }\n",
       "</style>\n",
       "<table border=\"1\" class=\"dataframe\">\n",
       "  <thead>\n",
       "    <tr style=\"text-align: right;\">\n",
       "      <th></th>\n",
       "      <th>count</th>\n",
       "      <th>mean</th>\n",
       "      <th>std</th>\n",
       "      <th>min</th>\n",
       "      <th>25%</th>\n",
       "      <th>50%</th>\n",
       "      <th>75%</th>\n",
       "      <th>max</th>\n",
       "    </tr>\n",
       "    <tr>\n",
       "      <th>salary</th>\n",
       "      <th></th>\n",
       "      <th></th>\n",
       "      <th></th>\n",
       "      <th></th>\n",
       "      <th></th>\n",
       "      <th></th>\n",
       "      <th></th>\n",
       "      <th></th>\n",
       "    </tr>\n",
       "  </thead>\n",
       "  <tbody>\n",
       "    <tr>\n",
       "      <th>&lt;=50K</th>\n",
       "      <td>24698.000</td>\n",
       "      <td>36.787</td>\n",
       "      <td>14.017</td>\n",
       "      <td>17.000</td>\n",
       "      <td>25.000</td>\n",
       "      <td>34.000</td>\n",
       "      <td>46.000</td>\n",
       "      <td>90.000</td>\n",
       "    </tr>\n",
       "    <tr>\n",
       "      <th>&gt;50K</th>\n",
       "      <td>7839.000</td>\n",
       "      <td>44.251</td>\n",
       "      <td>10.520</td>\n",
       "      <td>19.000</td>\n",
       "      <td>36.000</td>\n",
       "      <td>44.000</td>\n",
       "      <td>51.000</td>\n",
       "      <td>90.000</td>\n",
       "    </tr>\n",
       "  </tbody>\n",
       "</table>\n",
       "</div>"
      ],
      "text/plain": [
       "           count   mean    std    min    25%    50%    75%    max\n",
       "salary                                                           \n",
       "<=50K  24698.000 36.787 14.017 17.000 25.000 34.000 46.000 90.000\n",
       ">50K    7839.000 44.251 10.520 19.000 36.000 44.000 51.000 90.000"
      ]
     },
     "execution_count": 34,
     "metadata": {},
     "output_type": "execute_result"
    }
   ],
   "source": [
    "print(colored('Descriptive Statistics of the Age by Salary:\\n', 'blue', attrs=['bold']))\n",
    "\n",
    "df.groupby(\"salary\").age.describe()"
   ]
  },
  {
   "cell_type": "markdown",
   "id": "1ba752f5",
   "metadata": {},
   "source": [
    "**Result :** The mean and median age of the high-income group is higher than the low-income group. It means the older generation possesses more wealth than the young."
   ]
  },
  {
   "cell_type": "markdown",
   "id": "873be2d7",
   "metadata": {},
   "source": [
    " fnlwgt"
   ]
  },
  {
   "cell_type": "code",
   "execution_count": 35,
   "id": "ab87f8ea",
   "metadata": {},
   "outputs": [
    {
     "data": {
      "text/html": [
       "<div>\n",
       "<style scoped>\n",
       "    .dataframe tbody tr th:only-of-type {\n",
       "        vertical-align: middle;\n",
       "    }\n",
       "\n",
       "    .dataframe tbody tr th {\n",
       "        vertical-align: top;\n",
       "    }\n",
       "\n",
       "    .dataframe thead th {\n",
       "        text-align: right;\n",
       "    }\n",
       "</style>\n",
       "<table border=\"1\" class=\"dataframe\">\n",
       "  <thead>\n",
       "    <tr style=\"text-align: right;\">\n",
       "      <th></th>\n",
       "      <th>0</th>\n",
       "    </tr>\n",
       "  </thead>\n",
       "  <tbody>\n",
       "    <tr>\n",
       "      <th>age</th>\n",
       "      <td>39</td>\n",
       "    </tr>\n",
       "    <tr>\n",
       "      <th>workclass</th>\n",
       "      <td>State-gov</td>\n",
       "    </tr>\n",
       "    <tr>\n",
       "      <th>fnlwgt</th>\n",
       "      <td>77516</td>\n",
       "    </tr>\n",
       "    <tr>\n",
       "      <th>education</th>\n",
       "      <td>Bachelors</td>\n",
       "    </tr>\n",
       "    <tr>\n",
       "      <th>education_num</th>\n",
       "      <td>13.000</td>\n",
       "    </tr>\n",
       "    <tr>\n",
       "      <th>marital_status</th>\n",
       "      <td>Never-married</td>\n",
       "    </tr>\n",
       "    <tr>\n",
       "      <th>occupation</th>\n",
       "      <td>Adm-clerical</td>\n",
       "    </tr>\n",
       "    <tr>\n",
       "      <th>relationship</th>\n",
       "      <td>Not-in-family</td>\n",
       "    </tr>\n",
       "    <tr>\n",
       "      <th>race</th>\n",
       "      <td>White</td>\n",
       "    </tr>\n",
       "    <tr>\n",
       "      <th>gender</th>\n",
       "      <td>Male</td>\n",
       "    </tr>\n",
       "    <tr>\n",
       "      <th>capital_gain</th>\n",
       "      <td>2174</td>\n",
       "    </tr>\n",
       "    <tr>\n",
       "      <th>capital_loss</th>\n",
       "      <td>0</td>\n",
       "    </tr>\n",
       "    <tr>\n",
       "      <th>hours_per_week</th>\n",
       "      <td>40</td>\n",
       "    </tr>\n",
       "    <tr>\n",
       "      <th>native_country</th>\n",
       "      <td>United-States</td>\n",
       "    </tr>\n",
       "    <tr>\n",
       "      <th>salary</th>\n",
       "      <td>&lt;=50K</td>\n",
       "    </tr>\n",
       "  </tbody>\n",
       "</table>\n",
       "</div>"
      ],
      "text/plain": [
       "                            0\n",
       "age                        39\n",
       "workclass           State-gov\n",
       "fnlwgt                  77516\n",
       "education           Bachelors\n",
       "education_num          13.000\n",
       "marital_status  Never-married\n",
       "occupation       Adm-clerical\n",
       "relationship    Not-in-family\n",
       "race                    White\n",
       "gender                   Male\n",
       "capital_gain             2174\n",
       "capital_loss                0\n",
       "hours_per_week             40\n",
       "native_country  United-States\n",
       "salary                  <=50K"
      ]
     },
     "execution_count": 35,
     "metadata": {},
     "output_type": "execute_result"
    }
   ],
   "source": [
    "df.head(1).T"
   ]
  },
  {
   "cell_type": "code",
   "execution_count": 38,
   "id": "b811f507",
   "metadata": {},
   "outputs": [
    {
     "data": {
      "image/png": "[encoded data removed]",
      "text/plain": [
       "<Figure size 1000x600 with 1 Axes>"
      ]
     },
     "metadata": {},
     "output_type": "display_data"
    }
   ],
   "source": [
    "sns.boxplot(data = df, \n",
    "            x= \"fnlwgt\",\n",
    "           showmeans=True,\n",
    "            meanprops={\"marker\":\"o\",\n",
    "                       \"markerfacecolor\":\"white\", \n",
    "                       \"markeredgecolor\":\"black\",\n",
    "                       \"markersize\":\"10\"})\n",
    "\n",
    "plt.title(\"Fnlwgt Distribution by Boxplot\", fontsize=20, color=\"darkblue\");"
   ]
  },
  {
   "cell_type": "code",
   "execution_count": 40,
   "id": "297f69fa",
   "metadata": {},
   "outputs": [
    {
     "data": {
      "image/png": "[encoded data removed]",
      "text/plain": [
       "<Figure size 1000x600 with 1 Axes>"
      ]
     },
     "metadata": {},
     "output_type": "display_data"
    }
   ],
   "source": [
    "sns.kdeplot(data = df, x= \"fnlwgt\", fill=True)\n",
    "\n",
    "plt.title(\"Fnlwgt Density\", fontsize=20, color=\"darkblue\");"
   ]
  },
  {
   "cell_type": "code",
   "execution_count": 43,
   "id": "526a21b3",
   "metadata": {},
   "outputs": [
    {
     "name": "stdout",
     "output_type": "stream",
     "text": [
      "Descriptive Statistics of the \"fnlwgt\" Feature:\n",
      "\n"
     ]
    },
    {
     "data": {
      "text/plain": [
       "count     32537.000\n",
       "mean     189780.849\n",
       "std      105556.471\n",
       "min       12285.000\n",
       "25%      117827.000\n",
       "50%      178356.000\n",
       "75%      236993.000\n",
       "max     1484705.000\n",
       "Name: fnlwgt, dtype: float64"
      ]
     },
     "execution_count": 43,
     "metadata": {},
     "output_type": "execute_result"
    }
   ],
   "source": [
    "print('Descriptive Statistics of the \"fnlwgt\" Feature:\\n')\n",
    "\n",
    "df.fnlwgt.describe()"
   ]
  },
  {
   "cell_type": "code",
   "execution_count": null,
   "id": "d7cb7c5c",
   "metadata": {},
   "outputs": [],
   "source": []
  }
 ],
 "metadata": {
  "kernelspec": {
   "display_name": "Python 3 (ipykernel)",
   "language": "python",
   "name": "python3"
  },
  "language_info": {
   "codemirror_mode": {
    "name": "ipython",
    "version": 3
   },
   "file_extension": ".py",
   "mimetype": "text/x-python",
   "name": "python",
   "nbconvert_exporter": "python",
   "pygments_lexer": "ipython3",
   "version": "3.9.13"
  },
  "toc": {
   "base_numbering": 1,
   "nav_menu": {},
   "number_sections": true,
   "sideBar": true,
   "skip_h1_title": false,
   "title_cell": "Table of Contents",
   "title_sidebar": "Contents",
   "toc_cell": false,
   "toc_position": {},
   "toc_section_display": true,
   "toc_window_display": false
  }
 },
 "nbformat": 4,
 "nbformat_minor": 5
}
